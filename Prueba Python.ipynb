{
  "nbformat": 4,
  "nbformat_minor": 0,
  "metadata": {
    "colab": {
      "provenance": [],
      "authorship_tag": "ABX9TyM9n6txyc9yyP2PB4Ltv/n4",
      "include_colab_link": true
    },
    "kernelspec": {
      "name": "python3",
      "display_name": "Python 3"
    },
    "language_info": {
      "name": "python"
    }
  },
  "cells": [
    {
      "cell_type": "markdown",
      "metadata": {
        "id": "view-in-github",
        "colab_type": "text"
      },
      "source": [
        "<a href=\"https://colab.research.google.com/github/mindjobs/Ecerlab/blob/main/Prueba%20Python.ipynb\" target=\"_parent\"><img src=\"https://colab.research.google.com/assets/colab-badge.svg\" alt=\"Open In Colab\"/></a>"
      ]
    },
    {
      "cell_type": "code",
      "execution_count": 1,
      "metadata": {
        "colab": {
          "base_uri": "https://localhost:8080/"
        },
        "id": "ug07LbksKmSX",
        "outputId": "4c5945db-67ac-4964-9c07-c312a0c771a8"
      },
      "outputs": [
        {
          "output_type": "stream",
          "name": "stdout",
          "text": [
            "\n",
            "Primeras 5 filas:\n",
            "      Open   Close     High     Low  Volume      Date\n",
            "0  792.910  792.91  792.910  792.91     NaN  03/12/23\n",
            "1  797.975  792.91  797.975  792.91     NaN  03/11/23\n",
            "2  796.450  798.15  807.600  790.78     NaN  03/10/23\n",
            "3  803.020  796.45  805.050  795.52     NaN  03/09/23\n",
            "4  803.720  803.02  805.580  798.94     NaN  03/08/23\n",
            "\n",
            "Últimas 5 filas:\n",
            "        Open    Close     High     Low  Volume      Date\n",
            "1527  681.21  681.995  681.995  681.21     NaN  01/05/19\n",
            "1528  693.80  681.200  693.800  681.20     NaN  01/04/19\n",
            "1529  696.80  693.800  699.600  693.40     NaN  01/03/19\n",
            "1530  694.00  696.800  699.600  694.00     NaN  01/02/19\n",
            "1531  694.00  694.000  694.000  694.00     NaN  01/01/19\n"
          ]
        }
      ],
      "source": [
        "# Paso 1: Importar pandas\n",
        "import pandas as pd\n",
        "\n",
        "# Paso 2: Leer el archivo CSV desde la URL\n",
        "data_url = 'https://clasesmlds.s3.amazonaws.com/data/Chilean_Peso_03_12_23_01_01_19.csv'\n",
        "usdFull = pd.read_csv(data_url)\n",
        "\n",
        "# Paso 3: Mostrar las primeras 5 filas\n",
        "print(\"\\nPrimeras 5 filas:\")\n",
        "print(usdFull.head())\n",
        "\n",
        "# Paso 4: Mostrar las últimas 5 filas\n",
        "print(\"\\nÚltimas 5 filas:\")\n",
        "print(usdFull.tail())\n"
      ]
    }
  ]
}